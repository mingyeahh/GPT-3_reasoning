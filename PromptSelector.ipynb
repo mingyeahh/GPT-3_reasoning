{
 "cells": [
  {
   "cell_type": "code",
   "execution_count": 43,
   "id": "1acea617-0b5b-423f-bdbe-c6f4031eba64",
   "metadata": {},
   "outputs": [],
   "source": [
    "import json\n",
    "from sklearn.feature_extraction.text import TfidfVectorizer\n",
    "import numpy as np\n",
    "from numpy.linalg import norm\n",
    "import pandas as pd\n",
    "import re"
   ]
  },
  {
   "cell_type": "code",
   "execution_count": 44,
   "id": "b494834e-4ca8-4c2f-8c55-a558c4d3cba0",
   "metadata": {},
   "outputs": [],
   "source": [
    "# Turn json into dataframe for easier data cleaning\n",
    "with open(\"corpus/train.json\") as f:\n",
    "    s = f.read()\n",
    "    data1 = json.loads(s)\n",
    "df1 = pd.DataFrame.from_dict(data1)\n",
    "\n",
    "with open(\"corpus/test.json\") as f:\n",
    "    s = f.read()\n",
    "    data2 = json.loads(s)\n",
    "df2 = pd.DataFrame.from_dict(data2)\n",
    "\n",
    "with open(\"corpus/val.json\") as f:\n",
    "    s = f.read()\n",
    "    data3 = json.loads(s)\n",
    "df3 = pd.DataFrame.from_dict(data3)\n",
    "\n",
    "df = pd.concat([df1, df2, df3])"
   ]
  },
  {
   "cell_type": "code",
   "execution_count": 45,
   "id": "02d5ecb4",
   "metadata": {},
   "outputs": [
    {
     "data": {
      "text/html": [
       "<div>\n",
       "<style scoped>\n",
       "    .dataframe tbody tr th:only-of-type {\n",
       "        vertical-align: middle;\n",
       "    }\n",
       "\n",
       "    .dataframe tbody tr th {\n",
       "        vertical-align: top;\n",
       "    }\n",
       "\n",
       "    .dataframe thead th {\n",
       "        text-align: right;\n",
       "    }\n",
       "</style>\n",
       "<table border=\"1\" class=\"dataframe\">\n",
       "  <thead>\n",
       "    <tr style=\"text-align: right;\">\n",
       "      <th></th>\n",
       "      <th>id</th>\n",
       "      <th>summary</th>\n",
       "      <th>dialogue</th>\n",
       "    </tr>\n",
       "  </thead>\n",
       "  <tbody>\n",
       "    <tr>\n",
       "      <th>0</th>\n",
       "      <td>13818513</td>\n",
       "      <td>Amanda baked cookies and will bring Jerry some...</td>\n",
       "      <td>Amanda: I baked  cookies. Do you want some?\\r\\...</td>\n",
       "    </tr>\n",
       "    <tr>\n",
       "      <th>1</th>\n",
       "      <td>13728867</td>\n",
       "      <td>Olivia and Olivier are voting for liberals in ...</td>\n",
       "      <td>Olivia: Who are you voting for in this electio...</td>\n",
       "    </tr>\n",
       "    <tr>\n",
       "      <th>2</th>\n",
       "      <td>13681000</td>\n",
       "      <td>Kim may try the pomodoro technique recommended...</td>\n",
       "      <td>Tim: Hi, what's up?\\r\\nKim: Bad mood tbh, I wa...</td>\n",
       "    </tr>\n",
       "    <tr>\n",
       "      <th>3</th>\n",
       "      <td>13730747</td>\n",
       "      <td>Edward thinks he is in love with Bella. Rachel...</td>\n",
       "      <td>Edward: Rachel, I think I'm in ove with Bella....</td>\n",
       "    </tr>\n",
       "    <tr>\n",
       "      <th>4</th>\n",
       "      <td>13728094</td>\n",
       "      <td>Sam is confused, because he overheard Rick com...</td>\n",
       "      <td>Sam: hey  overheard rick say something\\r\\nSam:...</td>\n",
       "    </tr>\n",
       "    <tr>\n",
       "      <th>...</th>\n",
       "      <td>...</td>\n",
       "      <td>...</td>\n",
       "      <td>...</td>\n",
       "    </tr>\n",
       "    <tr>\n",
       "      <th>813</th>\n",
       "      <td>13829423</td>\n",
       "      <td>Carla's date for graduation is on June 4th. Di...</td>\n",
       "      <td>Carla: I've got it...\\r\\nDiego: what?\\r\\nCarla...</td>\n",
       "    </tr>\n",
       "    <tr>\n",
       "      <th>814</th>\n",
       "      <td>13727710</td>\n",
       "      <td>Bev is going on the school trip with her son. ...</td>\n",
       "      <td>Gita: Hello, this is Beti's Mum Gita, I wanted...</td>\n",
       "    </tr>\n",
       "    <tr>\n",
       "      <th>815</th>\n",
       "      <td>13829261</td>\n",
       "      <td>Greg cheated on Julia. He apologises to her. R...</td>\n",
       "      <td>Julia: Greg just texted me\\r\\nRobert: ugh, del...</td>\n",
       "    </tr>\n",
       "    <tr>\n",
       "      <th>816</th>\n",
       "      <td>13680226</td>\n",
       "      <td>Marry broke her nail and has a party tomorrow....</td>\n",
       "      <td>Marry: I broke my nail ;(\\r\\nTina: oh, no!\\r\\n...</td>\n",
       "    </tr>\n",
       "    <tr>\n",
       "      <th>817</th>\n",
       "      <td>13862383</td>\n",
       "      <td>Paige wants to have the declaration sent later...</td>\n",
       "      <td>Paige: I asked them to wait and send the decla...</td>\n",
       "    </tr>\n",
       "  </tbody>\n",
       "</table>\n",
       "<p>16369 rows × 3 columns</p>\n",
       "</div>"
      ],
      "text/plain": [
       "           id                                            summary  \\\n",
       "0    13818513  Amanda baked cookies and will bring Jerry some...   \n",
       "1    13728867  Olivia and Olivier are voting for liberals in ...   \n",
       "2    13681000  Kim may try the pomodoro technique recommended...   \n",
       "3    13730747  Edward thinks he is in love with Bella. Rachel...   \n",
       "4    13728094  Sam is confused, because he overheard Rick com...   \n",
       "..        ...                                                ...   \n",
       "813  13829423  Carla's date for graduation is on June 4th. Di...   \n",
       "814  13727710  Bev is going on the school trip with her son. ...   \n",
       "815  13829261  Greg cheated on Julia. He apologises to her. R...   \n",
       "816  13680226  Marry broke her nail and has a party tomorrow....   \n",
       "817  13862383  Paige wants to have the declaration sent later...   \n",
       "\n",
       "                                              dialogue  \n",
       "0    Amanda: I baked  cookies. Do you want some?\\r\\...  \n",
       "1    Olivia: Who are you voting for in this electio...  \n",
       "2    Tim: Hi, what's up?\\r\\nKim: Bad mood tbh, I wa...  \n",
       "3    Edward: Rachel, I think I'm in ove with Bella....  \n",
       "4    Sam: hey  overheard rick say something\\r\\nSam:...  \n",
       "..                                                 ...  \n",
       "813  Carla: I've got it...\\r\\nDiego: what?\\r\\nCarla...  \n",
       "814  Gita: Hello, this is Beti's Mum Gita, I wanted...  \n",
       "815  Julia: Greg just texted me\\r\\nRobert: ugh, del...  \n",
       "816  Marry: I broke my nail ;(\\r\\nTina: oh, no!\\r\\n...  \n",
       "817  Paige: I asked them to wait and send the decla...  \n",
       "\n",
       "[16369 rows x 3 columns]"
      ]
     },
     "execution_count": 45,
     "metadata": {},
     "output_type": "execute_result"
    }
   ],
   "source": [
    "df"
   ]
  },
  {
   "cell_type": "code",
   "execution_count": 46,
   "id": "80ba9c6e",
   "metadata": {},
   "outputs": [],
   "source": [
    "# quick test\n",
    "def get_people(txt):\n",
    "    names = re.findall(r\"(?:^|\\n)(\\w+):\", txt, re.MULTILINE)\n",
    "    people = list(set(names))\n",
    "    return people"
   ]
  },
  {
   "cell_type": "code",
   "execution_count": 47,
   "id": "6cc62e46",
   "metadata": {},
   "outputs": [],
   "source": [
    "df['people'] = df['dialogue'].map(get_people)"
   ]
  },
  {
   "cell_type": "code",
   "execution_count": 48,
   "id": "1cff4f24",
   "metadata": {},
   "outputs": [],
   "source": [
    "df1 = df.loc[df['people'].str.len() == 2]"
   ]
  },
  {
   "cell_type": "code",
   "execution_count": 49,
   "id": "fe01e022",
   "metadata": {},
   "outputs": [
    {
     "data": {
      "text/plain": [
       "2"
      ]
     },
     "execution_count": 49,
     "metadata": {},
     "output_type": "execute_result"
    }
   ],
   "source": [
    "df1['people'].str.len().max()"
   ]
  },
  {
   "cell_type": "code",
   "execution_count": 67,
   "id": "34efa6a4",
   "metadata": {},
   "outputs": [
    {
     "data": {
      "text/plain": [
       "array([[0., 0., 0., ..., 0., 0., 0.],\n",
       "       [0., 0., 0., ..., 0., 0., 0.],\n",
       "       [0., 0., 0., ..., 0., 0., 0.],\n",
       "       ...,\n",
       "       [0., 0., 0., ..., 0., 0., 0.],\n",
       "       [0., 0., 0., ..., 0., 0., 0.],\n",
       "       [0., 0., 0., ..., 0., 0., 0.]])"
      ]
     },
     "execution_count": 67,
     "metadata": {},
     "output_type": "execute_result"
    }
   ],
   "source": [
    "names = [n.lower() for n in set.union(*[set(p) for p in df1['people']])]\n",
    "vectorizer = TfidfVectorizer(ngram_range = (1, 1), token_pattern = r\"\\b([\\w']{2,}|I)\\b\", stop_words = names, norm='l1')\n",
    "tfidf = vectorizer.fit_transform(df1['dialogue'])\n",
    "scores = tfidf.toarray()\n",
    "# df1['tfidf'] = scores\n",
    "scores"
   ]
  },
  {
   "cell_type": "code",
   "execution_count": 69,
   "id": "3f746eda",
   "metadata": {},
   "outputs": [
    {
     "name": "stderr",
     "output_type": "stream",
     "text": [
      "/var/folders/75/fgxvjhx11hs171zp32c86x480000gn/T/ipykernel_8274/2043651426.py:5: SettingWithCopyWarning: \n",
      "A value is trying to be set on a copy of a slice from a DataFrame.\n",
      "Try using .loc[row_indexer,col_indexer] = value instead\n",
      "\n",
      "See the caveats in the documentation: https://pandas.pydata.org/pandas-docs/stable/user_guide/indexing.html#returning-a-view-versus-a-copy\n",
      "  df1['size'] = df1['dialogue'].map(get_size)\n"
     ]
    }
   ],
   "source": [
    "def get_size(txt):\n",
    "    tokens = re.findall(r\"\\b([\\w']{2,}|I)\\b\", txt, re.MULTILINE)\n",
    "    names = set(re.findall(r\"(?:^|\\n)(\\w+):\", txt, re.MULTILINE))\n",
    "    return len([i for i in tokens if i not in names])\n",
    "df1['size'] = df1['dialogue'].map(get_size)"
   ]
  },
  {
   "cell_type": "code",
   "execution_count": 70,
   "id": "74da4b50",
   "metadata": {},
   "outputs": [
    {
     "data": {
      "text/html": [
       "<div>\n",
       "<style scoped>\n",
       "    .dataframe tbody tr th:only-of-type {\n",
       "        vertical-align: middle;\n",
       "    }\n",
       "\n",
       "    .dataframe tbody tr th {\n",
       "        vertical-align: top;\n",
       "    }\n",
       "\n",
       "    .dataframe thead th {\n",
       "        text-align: right;\n",
       "    }\n",
       "</style>\n",
       "<table border=\"1\" class=\"dataframe\">\n",
       "  <thead>\n",
       "    <tr style=\"text-align: right;\">\n",
       "      <th></th>\n",
       "      <th>id</th>\n",
       "      <th>summary</th>\n",
       "      <th>dialogue</th>\n",
       "      <th>people</th>\n",
       "      <th>size</th>\n",
       "    </tr>\n",
       "  </thead>\n",
       "  <tbody>\n",
       "    <tr>\n",
       "      <th>0</th>\n",
       "      <td>13818513</td>\n",
       "      <td>Amanda baked cookies and will bring Jerry some...</td>\n",
       "      <td>Amanda: I baked  cookies. Do you want some?\\r\\...</td>\n",
       "      <td>[Jerry, Amanda]</td>\n",
       "      <td>12</td>\n",
       "    </tr>\n",
       "    <tr>\n",
       "      <th>1</th>\n",
       "      <td>13728867</td>\n",
       "      <td>Olivia and Olivier are voting for liberals in ...</td>\n",
       "      <td>Olivia: Who are you voting for in this electio...</td>\n",
       "      <td>[Olivia, Oliver]</td>\n",
       "      <td>14</td>\n",
       "    </tr>\n",
       "    <tr>\n",
       "      <th>2</th>\n",
       "      <td>13681000</td>\n",
       "      <td>Kim may try the pomodoro technique recommended...</td>\n",
       "      <td>Tim: Hi, what's up?\\r\\nKim: Bad mood tbh, I wa...</td>\n",
       "      <td>[Tim, Kim]</td>\n",
       "      <td>87</td>\n",
       "    </tr>\n",
       "    <tr>\n",
       "      <th>3</th>\n",
       "      <td>13730747</td>\n",
       "      <td>Edward thinks he is in love with Bella. Rachel...</td>\n",
       "      <td>Edward: Rachel, I think I'm in ove with Bella....</td>\n",
       "      <td>[Edward, rachel]</td>\n",
       "      <td>23</td>\n",
       "    </tr>\n",
       "    <tr>\n",
       "      <th>4</th>\n",
       "      <td>13728094</td>\n",
       "      <td>Sam is confused, because he overheard Rick com...</td>\n",
       "      <td>Sam: hey  overheard rick say something\\r\\nSam:...</td>\n",
       "      <td>[Naomi, Sam]</td>\n",
       "      <td>143</td>\n",
       "    </tr>\n",
       "    <tr>\n",
       "      <th>...</th>\n",
       "      <td>...</td>\n",
       "      <td>...</td>\n",
       "      <td>...</td>\n",
       "      <td>...</td>\n",
       "      <td>...</td>\n",
       "    </tr>\n",
       "    <tr>\n",
       "      <th>813</th>\n",
       "      <td>13829423</td>\n",
       "      <td>Carla's date for graduation is on June 4th. Di...</td>\n",
       "      <td>Carla: I've got it...\\r\\nDiego: what?\\r\\nCarla...</td>\n",
       "      <td>[Diego, Carla]</td>\n",
       "      <td>154</td>\n",
       "    </tr>\n",
       "    <tr>\n",
       "      <th>814</th>\n",
       "      <td>13727710</td>\n",
       "      <td>Bev is going on the school trip with her son. ...</td>\n",
       "      <td>Gita: Hello, this is Beti's Mum Gita, I wanted...</td>\n",
       "      <td>[Bev, Gita]</td>\n",
       "      <td>276</td>\n",
       "    </tr>\n",
       "    <tr>\n",
       "      <th>815</th>\n",
       "      <td>13829261</td>\n",
       "      <td>Greg cheated on Julia. He apologises to her. R...</td>\n",
       "      <td>Julia: Greg just texted me\\r\\nRobert: ugh, del...</td>\n",
       "      <td>[Julia, Robert]</td>\n",
       "      <td>213</td>\n",
       "    </tr>\n",
       "    <tr>\n",
       "      <th>816</th>\n",
       "      <td>13680226</td>\n",
       "      <td>Marry broke her nail and has a party tomorrow....</td>\n",
       "      <td>Marry: I broke my nail ;(\\r\\nTina: oh, no!\\r\\n...</td>\n",
       "      <td>[Tina, Marry]</td>\n",
       "      <td>47</td>\n",
       "    </tr>\n",
       "    <tr>\n",
       "      <th>817</th>\n",
       "      <td>13862383</td>\n",
       "      <td>Paige wants to have the declaration sent later...</td>\n",
       "      <td>Paige: I asked them to wait and send the decla...</td>\n",
       "      <td>[Maddy, Paige]</td>\n",
       "      <td>80</td>\n",
       "    </tr>\n",
       "  </tbody>\n",
       "</table>\n",
       "<p>11879 rows × 5 columns</p>\n",
       "</div>"
      ],
      "text/plain": [
       "           id                                            summary  \\\n",
       "0    13818513  Amanda baked cookies and will bring Jerry some...   \n",
       "1    13728867  Olivia and Olivier are voting for liberals in ...   \n",
       "2    13681000  Kim may try the pomodoro technique recommended...   \n",
       "3    13730747  Edward thinks he is in love with Bella. Rachel...   \n",
       "4    13728094  Sam is confused, because he overheard Rick com...   \n",
       "..        ...                                                ...   \n",
       "813  13829423  Carla's date for graduation is on June 4th. Di...   \n",
       "814  13727710  Bev is going on the school trip with her son. ...   \n",
       "815  13829261  Greg cheated on Julia. He apologises to her. R...   \n",
       "816  13680226  Marry broke her nail and has a party tomorrow....   \n",
       "817  13862383  Paige wants to have the declaration sent later...   \n",
       "\n",
       "                                              dialogue            people  size  \n",
       "0    Amanda: I baked  cookies. Do you want some?\\r\\...   [Jerry, Amanda]    12  \n",
       "1    Olivia: Who are you voting for in this electio...  [Olivia, Oliver]    14  \n",
       "2    Tim: Hi, what's up?\\r\\nKim: Bad mood tbh, I wa...        [Tim, Kim]    87  \n",
       "3    Edward: Rachel, I think I'm in ove with Bella....  [Edward, rachel]    23  \n",
       "4    Sam: hey  overheard rick say something\\r\\nSam:...      [Naomi, Sam]   143  \n",
       "..                                                 ...               ...   ...  \n",
       "813  Carla: I've got it...\\r\\nDiego: what?\\r\\nCarla...    [Diego, Carla]   154  \n",
       "814  Gita: Hello, this is Beti's Mum Gita, I wanted...       [Bev, Gita]   276  \n",
       "815  Julia: Greg just texted me\\r\\nRobert: ugh, del...   [Julia, Robert]   213  \n",
       "816  Marry: I broke my nail ;(\\r\\nTina: oh, no!\\r\\n...     [Tina, Marry]    47  \n",
       "817  Paige: I asked them to wait and send the decla...    [Maddy, Paige]    80  \n",
       "\n",
       "[11879 rows x 5 columns]"
      ]
     },
     "execution_count": 70,
     "metadata": {},
     "output_type": "execute_result"
    }
   ],
   "source": [
    "df1"
   ]
  },
  {
   "cell_type": "code",
   "execution_count": 50,
   "id": "d73eef67-558f-4bfa-9f15-526b3454aabb",
   "metadata": {},
   "outputs": [],
   "source": [
    "def size_cost(new_dialogue, pool):\n",
    "    pass"
   ]
  },
  {
   "cell_type": "code",
   "execution_count": 51,
   "id": "0d1cdf4a",
   "metadata": {},
   "outputs": [],
   "source": [
    "def content_cost(new_dialogue, pool):\n",
    "    pass"
   ]
  },
  {
   "cell_type": "code",
   "execution_count": 52,
   "id": "63a44083",
   "metadata": {},
   "outputs": [],
   "source": [
    "def sort_by_cost(pool, new_dialogue, w_size=0.5, w_content=0.5):\n",
    "    pass"
   ]
  }
 ],
 "metadata": {
  "kernelspec": {
   "display_name": "Python 3",
   "language": "python",
   "name": "python3"
  },
  "language_info": {
   "codemirror_mode": {
    "name": "ipython",
    "version": 3
   },
   "file_extension": ".py",
   "mimetype": "text/x-python",
   "name": "python",
   "nbconvert_exporter": "python",
   "pygments_lexer": "ipython3",
   "version": "3.9.5"
  },
  "vscode": {
   "interpreter": {
    "hash": "397704579725e15f5c7cb49fe5f0341eb7531c82d19f2c29d197e8b64ab5776b"
   }
  }
 },
 "nbformat": 4,
 "nbformat_minor": 5
}
