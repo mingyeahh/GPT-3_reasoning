{
 "cells": [
  {
   "cell_type": "code",
   "execution_count": 1,
   "id": "1acea617-0b5b-423f-bdbe-c6f4031eba64",
   "metadata": {},
   "outputs": [],
   "source": [
    "import json\n",
    "from sklearn.feature_extraction.text import TfidfVectorizer\n",
    "import numpy as np\n",
    "from numpy.linalg import norm"
   ]
  },
  {
   "cell_type": "code",
   "execution_count": 2,
   "id": "b494834e-4ca8-4c2f-8c55-a558c4d3cba0",
   "metadata": {},
   "outputs": [],
   "source": [
    "\n",
    "with open(\"corpus/train.json\") as f:\n",
    "    s = f.read()\n",
    "    train = json.loads(s)\n"
   ]
  },
  {
   "cell_type": "code",
   "execution_count": null,
   "id": "d73eef67-558f-4bfa-9f15-526b3454aabb",
   "metadata": {},
   "outputs": [],
   "source": [
    "def size_cost(new_dialogue, pool):\n",
    "    pass"
   ]
  },
  {
   "cell_type": "code",
   "execution_count": null,
   "id": "0d1cdf4a",
   "metadata": {},
   "outputs": [],
   "source": [
    "def content_cost(new_dialogue, pool):\n",
    "    pass"
   ]
  },
  {
   "cell_type": "code",
   "execution_count": null,
   "id": "63a44083",
   "metadata": {},
   "outputs": [],
   "source": [
    "def sort_by_cost(pool, new_dialogue, w_size=0.5, w_content=0.5):\n",
    "    pass"
   ]
  }
 ],
 "metadata": {
  "kernelspec": {
   "display_name": "Python 3.9.5 64-bit",
   "language": "python",
   "name": "python3"
  },
  "language_info": {
   "codemirror_mode": {
    "name": "ipython",
    "version": 3
   },
   "file_extension": ".py",
   "mimetype": "text/x-python",
   "name": "python",
   "nbconvert_exporter": "python",
   "pygments_lexer": "ipython3",
   "version": "3.11.1"
  },
  "vscode": {
   "interpreter": {
    "hash": "aee8b7b246df8f9039afb4144a1f6fd8d2ca17a180786b69acc140d282b71a49"
   }
  }
 },
 "nbformat": 4,
 "nbformat_minor": 5
}
